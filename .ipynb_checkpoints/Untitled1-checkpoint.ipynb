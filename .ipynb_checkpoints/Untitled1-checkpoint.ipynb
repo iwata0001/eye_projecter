{
 "cells": [
  {
   "cell_type": "code",
   "execution_count": 8,
   "id": "0690d037",
   "metadata": {
    "scrolled": true
   },
   "outputs": [],
   "source": [
    "from pythreejs import *\n",
    "from IPython.display import display\n",
    "from math import pi\n",
    "import numpy as np\n",
    "# This test examines the inner workings of the Geometry classes\n",
    "# Geometries should be creatable via the helper extras/Geometries classes\n",
    "# as well as procedurally creating the vertices yourself\n",
    "g = BoxGeometry(\n",
    "    width=5, \n",
    "    height=10, \n",
    "    depth=15,\n",
    "    widthSegments=5, \n",
    "    heightSegments=10,\n",
    "    depthSegments=15)\n"
   ]
  },
  {
   "cell_type": "code",
   "execution_count": 9,
   "id": "a6015e17",
   "metadata": {
    "scrolled": true
   },
   "outputs": [
    {
     "data": {
      "application/vnd.jupyter.widget-view+json": {
       "model_id": "2bff95df37d2483d8e231eac50cb41c6",
       "version_major": 2,
       "version_minor": 0
      },
      "text/plain": [
       "Preview(child=BoxGeometry(depth=15.0, depthSegments=15, height=10.0, heightSegments=10, width=5.0, widthSegmen…"
      ]
     },
     "metadata": {},
     "output_type": "display_data"
    }
   ],
   "source": [
    "g"
   ]
  },
  {
   "cell_type": "code",
   "execution_count": 10,
   "id": "9e77f2ce",
   "metadata": {},
   "outputs": [],
   "source": [
    "g2 = Geometry.from_geometry(g)"
   ]
  },
  {
   "cell_type": "code",
   "execution_count": 11,
   "id": "88ded4d5",
   "metadata": {},
   "outputs": [
    {
     "data": {
      "application/vnd.jupyter.widget-view+json": {
       "model_id": "bed38f93768043e987a99bb8d660fb82",
       "version_major": 2,
       "version_minor": 0
      },
      "text/plain": [
       "Preview(child=Geometry(faceVertexUvs=[[[{'x': 0, 'y': 1}, {'x': 0, 'y': 0.8999999761581421}, {'x': 0.066666670…"
      ]
     },
     "metadata": {},
     "output_type": "display_data"
    }
   ],
   "source": [
    "g2"
   ]
  },
  {
   "cell_type": "code",
   "execution_count": 12,
   "id": "c36ec9a6",
   "metadata": {},
   "outputs": [
    {
     "data": {
      "text/plain": [
       "((552, 3), 1100)"
      ]
     },
     "execution_count": 12,
     "metadata": {},
     "output_type": "execute_result"
    }
   ],
   "source": [
    "np.shape(g2.vertices), len(g2.faces)"
   ]
  },
  {
   "cell_type": "code",
   "execution_count": null,
   "id": "c38b451e",
   "metadata": {},
   "outputs": [],
   "source": [
    "g3 = Geometry(vertices=g2.vertices[:], faces=g2.faces[:])\n",
    "g3"
   ]
  }
 ],
 "metadata": {
  "kernelspec": {
   "display_name": "Python 3 (ipykernel)",
   "language": "python",
   "name": "python3"
  },
  "language_info": {
   "codemirror_mode": {
    "name": "ipython",
    "version": 3
   },
   "file_extension": ".py",
   "mimetype": "text/x-python",
   "name": "python",
   "nbconvert_exporter": "python",
   "pygments_lexer": "ipython3",
   "version": "3.9.12"
  }
 },
 "nbformat": 4,
 "nbformat_minor": 5
}
