{
 "cells": [
  {
   "cell_type": "code",
   "execution_count": 1,
   "id": "5b02b9c4",
   "metadata": {},
   "outputs": [],
   "source": [
    "from pythreejs import *\n",
    "import numpy as np\n",
    "from IPython.display import display\n",
    "from ipywidgets import HTML, Output, VBox, jslink\n",
    "\n",
    "view_width = 600\n",
    "view_height = 400\n",
    "\n",
    "from pythreejs import *\n",
    "from IPython.display import display\n",
    "from math import pi"
   ]
  },
  {
   "cell_type": "code",
   "execution_count": 2,
   "id": "a5362e2b",
   "metadata": {},
   "outputs": [],
   "source": [
    "def find_minima(f, start=(0, 0), xlim=None, ylim=None):\n",
    "    rate = 0.1 # Learning rate\n",
    "    max_iters = 200 # maximum number of iterations\n",
    "    iters = 0 # iteration counter\n",
    "    \n",
    "    cur = np.array(start[:2])\n",
    "    previous_step_size = 1 #\n",
    "    cur_val = f(cur[0], cur[1]) \n",
    "    \n",
    "    while (iters < max_iters and\n",
    "           xlim[0] <= cur[0] <= xlim[1] and ylim[0] <= cur[1] <= ylim[1]):\n",
    "        iters = iters + 1\n",
    "        candidate = cur - rate * (np.random.rand(2) - 0.5)\n",
    "        candidate_val = f(candidate[0], candidate[1])\n",
    "        if candidate_val >= cur_val:\n",
    "            continue   # Bad guess, try again\n",
    "        prev = cur\n",
    "        cur = candidate\n",
    "        cur_val = candidate_val\n",
    "        previous_step_size = np.abs(cur - prev)\n",
    "        yield tuple(cur) + (cur_val,)\n",
    "\n",
    "    print(\"The local minimum occurs at\", cur)"
   ]
  },
  {
   "cell_type": "code",
   "execution_count": 3,
   "id": "dc92bd6d",
   "metadata": {},
   "outputs": [],
   "source": [
    "def f(x, y):\n",
    "    return x ** 2 + y ** 2"
   ]
  },
  {
   "cell_type": "code",
   "execution_count": 4,
   "id": "2e66ef7e",
   "metadata": {},
   "outputs": [],
   "source": [
    "nx, ny = (20, 20)  # grid resolution\n",
    "xmax = 1           # grid extent (+/-)\n",
    "x = np.linspace(-xmax, xmax, nx)\n",
    "y = np.linspace(-xmax, xmax, ny)\n",
    "step = x[1] - x[0]\n",
    "xx, yy = np.meshgrid(x, y)\n",
    "# Grid lattice values:\n",
    "grid_z = np.vectorize(f)(xx, yy)\n",
    "# Grid square center values:\n",
    "center_z = np.vectorize(f)(0.5 * step + xx[:-1,:-1], 0.5 * step + yy[:-1,:-1])"
   ]
  },
  {
   "cell_type": "code",
   "execution_count": 5,
   "id": "f4eb8afc",
   "metadata": {},
   "outputs": [
    {
     "name": "stdout",
     "output_type": "stream",
     "text": [
      "BoxGeometry(depth=15.0, depthSegments=15, height=10.0, heightSegments=10, width=5.0, widthSegments=5)\n"
     ]
    }
   ],
   "source": [
    "# Surface geometry:\n",
    "surf_g = BoxGeometry(\n",
    "        width=5,\n",
    "        height=10,\n",
    "        depth=15,\n",
    "        widthSegments=5,\n",
    "        heightSegments=10,\n",
    "        depthSegments=15)\n",
    "\n",
    "# Surface material. Note that the map uses the center-evaluated function-values:\n",
    "surf = Mesh(geometry=surf_g,\n",
    "            material=MeshLambertMaterial())\n",
    "\n",
    "print(surf_g)\n"
   ]
  },
  {
   "cell_type": "code",
   "execution_count": 6,
   "id": "0ac76f90",
   "metadata": {},
   "outputs": [],
   "source": [
    "key_light = DirectionalLight(color='white', position=[3, 5, 1], intensity=0.4)\n",
    "c = PerspectiveCamera(position=[0, 3, 3], up=[0, 0, 1], aspect=view_width / view_height,\n",
    "                      children=[key_light])\n",
    "\n",
    "scene = Scene(children=[surf, c, AmbientLight(intensity=0.2)])"
   ]
  },
  {
   "cell_type": "code",
   "execution_count": 15,
   "id": "c11c44d3",
   "metadata": {
    "scrolled": true
   },
   "outputs": [
    {
     "data": {
      "application/vnd.jupyter.widget-view+json": {
       "model_id": "08f53223a08342528f30b48b4e9f19b1",
       "version_major": 2,
       "version_minor": 0
      },
      "text/plain": [
       "VBox(children=(Renderer(camera=PerspectiveCamera(aspect=1.5, children=(DirectionalLight(color='white', intensi…"
      ]
     },
     "metadata": {},
     "output_type": "display_data"
    }
   ],
   "source": [
    "renderer = Renderer(camera=c, scene=scene,\n",
    "                    width=view_width, height=view_height,\n",
    "                    controls=[OrbitControls(controlling=c)])\n",
    "\n",
    "out = Output()        # An Output for displaying captured print statements\n",
    "box = VBox([renderer])\n",
    "display(box)"
   ]
  },
  {
   "cell_type": "code",
   "execution_count": 16,
   "id": "a379683e",
   "metadata": {},
   "outputs": [
    {
     "data": {
      "text/plain": [
       "Link(source=(Mesh(geometry=SphereGeometry(radius=0.1), material=MeshLambertMaterial(alphaMap=None, aoMap=None,…"
      ]
     },
     "metadata": {},
     "output_type": "display_data"
    }
   ],
   "source": [
    "# Picker object\n",
    "hover_picker = Picker(controlling=surf, event='mousedown')\n",
    "renderer.controls = renderer.controls + [hover_picker]\n",
    "\n",
    "# A sphere for representing the current point on the surface\n",
    "hover_point = Mesh(geometry=SphereGeometry(radius=0.1),\n",
    "                   material=MeshLambertMaterial(color='hotpink'))\n",
    "scene.add(hover_point)\n",
    "\n",
    "# Have sphere follow picker point:\n",
    "jslink((hover_point, 'position'), (hover_picker, 'point'))"
   ]
  },
  {
   "cell_type": "code",
   "execution_count": 10,
   "id": "98caad4a",
   "metadata": {},
   "outputs": [],
   "source": [
    "coord_label = HTML()  # A label for showing hover picker coordinates\n",
    "\n",
    "def on_hover_change(change):\n",
    "    coord_label.value = 'Pink point at (%.3f, %.3f, %.3f)' % tuple(change['new'])\n",
    "\n",
    "on_hover_change({'new': hover_point.position})\n",
    "hover_picker.observe(on_hover_change, names=['point'])\n",
    "box.children = (coord_label,) + box.children"
   ]
  },
  {
   "cell_type": "code",
   "execution_count": null,
   "id": "76485431",
   "metadata": {},
   "outputs": [],
   "source": []
  }
 ],
 "metadata": {
  "kernelspec": {
   "display_name": "Python 3 (ipykernel)",
   "language": "python",
   "name": "python3"
  },
  "language_info": {
   "codemirror_mode": {
    "name": "ipython",
    "version": 3
   },
   "file_extension": ".py",
   "mimetype": "text/x-python",
   "name": "python",
   "nbconvert_exporter": "python",
   "pygments_lexer": "ipython3",
   "version": "3.9.12"
  }
 },
 "nbformat": 4,
 "nbformat_minor": 5
}
