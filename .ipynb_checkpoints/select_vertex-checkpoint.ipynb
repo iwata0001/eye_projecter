{
 "cells": [
  {
   "cell_type": "code",
   "execution_count": 1,
   "id": "ad88a3c2",
   "metadata": {},
   "outputs": [],
   "source": [
    "from pythreejs import *\n",
    "import numpy as np\n",
    "from IPython.display import display\n",
    "from ipywidgets import HTML, Output, VBox, jslink\n",
    "import ipywidgets as widgets\n",
    "\n",
    "view_width = 1200\n",
    "view_height = 800\n",
    "\n",
    "from pythreejs import *\n",
    "from IPython.display import display\n",
    "from math import pi\n",
    "\n",
    "import inspect\n",
    "\n",
    "import igl\n",
    "import scipy as sp\n",
    "from meshplot import plot, subplot, interact\n",
    "\n",
    "import os\n",
    "root_folder = os.getcwd()"
   ]
  },
  {
   "cell_type": "code",
   "execution_count": 30,
   "id": "e14c1889",
   "metadata": {},
   "outputs": [
    {
     "data": {
      "application/vnd.jupyter.widget-view+json": {
       "model_id": "2df286232fa1449589f034334531a050",
       "version_major": 2,
       "version_minor": 0
      },
      "text/plain": [
       "HTML(value='<style>div.output_scroll { height: unset; }</style>')"
      ]
     },
     "metadata": {},
     "output_type": "display_data"
    }
   ],
   "source": [
    "display(HTML(\"<style>div.output_scroll { height: unset; }</style>\"))"
   ]
  },
  {
   "cell_type": "code",
   "execution_count": 2,
   "id": "78dc0e1b",
   "metadata": {},
   "outputs": [],
   "source": [
    "def calcNormal(V, f):\n",
    "    v0 = np.array(V[f[0]])\n",
    "    v1 = np.array(V[f[1]])\n",
    "    v2 = np.array(V[f[2]])\n",
    "    v01 = v1 - v0\n",
    "    v02 = v2 - v0\n",
    "    normal = np.cross(v01, v02)\n",
    "    normal = normal / np.linalg.norm(normal, ord=2)\n",
    "    rtnNormal = [normal[0], normal[1], normal[2]]\n",
    "    return normal"
   ]
  },
  {
   "cell_type": "code",
   "execution_count": 3,
   "id": "b93699ad",
   "metadata": {},
   "outputs": [],
   "source": [
    "def transformFaceMat(V, F):\n",
    "    rtnf = []\n",
    "    for i in range(len(F)):\n",
    "        n = calcNormal(V, F[i])\n",
    "        n = [n[0], n[1], n[2]]\n",
    "        rtnf.append([F[i][0], F[i][1], F[i][2], [n, n, n], ['#ffffff', '#ffffff', '#ffffff'], None])\n",
    "        \n",
    "    rtnv = []\n",
    "    for i in range(len(V)):\n",
    "        rtnv.append([V[i][0], V[i][1], V[i][2]])\n",
    "    return rtnv, rtnf"
   ]
  },
  {
   "cell_type": "code",
   "execution_count": 4,
   "id": "5125a345",
   "metadata": {},
   "outputs": [],
   "source": [
    "# Surface geometry:\n",
    "surf_g = BoxGeometry(\n",
    "        width=5,\n",
    "        height=10,\n",
    "        depth=15,\n",
    "        widthSegments=2,\n",
    "        heightSegments=2,\n",
    "        depthSegments=2)\n",
    "\n",
    "surf_g = DodecahedronGeometry(radius=10, detail=0, _flat=True)\n",
    "\n",
    "# Surface material. Note that the map uses the center-evaluated function-values:\n",
    "surf = Mesh(geometry=surf_g,\n",
    "            material=MeshLambertMaterial())"
   ]
  },
  {
   "cell_type": "code",
   "execution_count": 49,
   "id": "b430065d",
   "metadata": {
    "scrolled": true
   },
   "outputs": [],
   "source": [
    "v, f = igl.read_triangle_mesh(os.path.join(root_folder, \"data\", \"amber_face.obj\"))\n",
    "v_p3s, f_p3s = transformFaceMat(v, f)\n",
    "#print(f_p3s)\n",
    "surf_g = Geometry(vertices=v_p3s[:], faces=f_p3s[:])\n",
    "surf = Mesh(geometry=surf_g,\n",
    "                 material=MeshLambertMaterial())"
   ]
  },
  {
   "cell_type": "code",
   "execution_count": 50,
   "id": "3500fa63",
   "metadata": {},
   "outputs": [],
   "source": [
    "g2 = Geometry.from_geometry(surf_g)"
   ]
  },
  {
   "cell_type": "code",
   "execution_count": 51,
   "id": "2a2d5fb0",
   "metadata": {},
   "outputs": [],
   "source": [
    "surf = Mesh(geometry=g2,\n",
    "                 material=MeshLambertMaterial())"
   ]
  },
  {
   "cell_type": "code",
   "execution_count": 52,
   "id": "550318c0",
   "metadata": {
    "scrolled": false
   },
   "outputs": [],
   "source": [
    "#np.shape(g2.vertices), len(g2.faces)\n",
    "#len(g2.vertices)\n",
    "#print(g2.faces)"
   ]
  },
  {
   "cell_type": "code",
   "execution_count": 53,
   "id": "c97cd756",
   "metadata": {},
   "outputs": [],
   "source": [
    "key_light = DirectionalLight(color='white', position=[3, 5, 1], intensity=0.4)\n",
    "c = PerspectiveCamera(position=[0, 3, 3], up=[0, 0, 1], aspect=view_width / view_height,\n",
    "                      children=[key_light])\n",
    "\n",
    "scene = Scene(children=[surf, c, AmbientLight(intensity=0.2)])"
   ]
  },
  {
   "cell_type": "code",
   "execution_count": 54,
   "id": "0830bdae",
   "metadata": {
    "scrolled": true
   },
   "outputs": [
    {
     "data": {
      "application/vnd.jupyter.widget-view+json": {
       "model_id": "a0c64e60ef064b7389488af23229f379",
       "version_major": 2,
       "version_minor": 0
      },
      "text/plain": [
       "VBox(children=(Renderer(camera=PerspectiveCamera(aspect=1.5, children=(DirectionalLight(color='white', intensi…"
      ]
     },
     "metadata": {},
     "output_type": "display_data"
    }
   ],
   "source": [
    "renderer = Renderer(camera=c, scene=scene,\n",
    "                    width=view_width, height=view_height,\n",
    "                    controls=[OrbitControls(controlling=c)])\n",
    "\n",
    "out = Output()        # An Output for displaying captured print statements\n",
    "box = VBox([renderer])\n",
    "display(box)"
   ]
  },
  {
   "cell_type": "code",
   "execution_count": 55,
   "id": "fe53ea86",
   "metadata": {},
   "outputs": [
    {
     "data": {
      "text/plain": [
       "Link(source=(Mesh(geometry=SphereGeometry(radius=0.01), material=MeshLambertMaterial(alphaMap=None, aoMap=None…"
      ]
     },
     "metadata": {},
     "output_type": "display_data"
    }
   ],
   "source": [
    "pointSize = 0.01\n",
    "# Picker object\n",
    "hover_picker = Picker(controlling=surf, event='mousemove')\n",
    "renderer.controls = renderer.controls + [hover_picker]\n",
    "\n",
    "dblclick_picker = Picker(controlling=surf, event='dblclick')\n",
    "renderer.controls = renderer.controls + [dblclick_picker]\n",
    "\n",
    "# A sphere for representing the current point on the surface\n",
    "hover_point = Mesh(geometry=SphereGeometry(radius=pointSize),\n",
    "                   material=MeshLambertMaterial(color='hotpink'))\n",
    "scene.add(hover_point)\n",
    "\n",
    "# Have sphere follow picker point:\n",
    "jslink((hover_point, 'position'), (hover_picker, 'point'))"
   ]
  },
  {
   "cell_type": "code",
   "execution_count": 56,
   "id": "4b143395",
   "metadata": {
    "scrolled": true
   },
   "outputs": [],
   "source": [
    "def selectNearest(mousePos, vertices):\n",
    "    minL2 = float('inf')\n",
    "    minInd = -1\n",
    "    for i in range(len(vertices)):\n",
    "        tmpL2 = (mousePos[0] - vertices[i][0])**2 + (mousePos[1] - vertices[i][1])**2 + (mousePos[2] - vertices[i][2])**2\n",
    "        if tmpL2 < minL2:\n",
    "            minL2 = tmpL2\n",
    "            minInd = i\n",
    "    print(minInd, minL2, vertices[minInd])\n",
    "    return(vertices[minInd], minInd)"
   ]
  },
  {
   "cell_type": "code",
   "execution_count": 57,
   "id": "40dcccf0",
   "metadata": {},
   "outputs": [],
   "source": [
    "pointSize = 0.01\n",
    "Gpoint = Mesh(geometry=SphereGeometry(radius=pointSize), \n",
    "                 material=MeshLambertMaterial(color='green'))\n",
    "Wpoint = Mesh(geometry=SphereGeometry(radius=pointSize), \n",
    "                 material=MeshLambertMaterial(color='white'))\n",
    "selectedIndices = []\n",
    "scene.add(Gpoint)\n",
    "scene.add(Wpoint)\n",
    "def f1(change):\n",
    "    value = change['new']\n",
    "    Gpoint.position = selectNearest(value, g2.vertices)[0]\n",
    "    selectedIndices.append(selectNearest(value, g2.vertices)[1])\n",
    "\n",
    "dblclick_picker.observe(f1, names=['point'])\n",
    "\n",
    "def f2(change):\n",
    "    value = change['new']\n",
    "    Wpoint.position = selectNearest(value, g2.vertices)[0]\n",
    "\n",
    "hover_picker.observe(f2, names=['point'])"
   ]
  },
  {
   "cell_type": "code",
   "execution_count": 58,
   "id": "640e5bc2",
   "metadata": {
    "scrolled": false
   },
   "outputs": [
    {
     "name": "stdout",
     "output_type": "stream",
     "text": [
      "[]\n"
     ]
    }
   ],
   "source": [
    "print(selectedIndices)"
   ]
  },
  {
   "cell_type": "code",
   "execution_count": 59,
   "id": "c56ec738",
   "metadata": {
    "scrolled": true
   },
   "outputs": [
    {
     "ename": "ValueError",
     "evalue": "Invalid type (double, Row Major) for argument 'b'. Expected it to match argument 'f' which is of type (int, Row Major).",
     "output_type": "error",
     "traceback": [
      "\u001b[1;31m---------------------------------------------------------------------------\u001b[0m",
      "\u001b[1;31mValueError\u001b[0m                                Traceback (most recent call last)",
      "Input \u001b[1;32mIn [59]\u001b[0m, in \u001b[0;36m<cell line: 10>\u001b[1;34m()\u001b[0m\n\u001b[0;32m      7\u001b[0m \u001b[38;5;66;03m#print(movePos)\u001b[39;00m\n\u001b[0;32m      8\u001b[0m selectedIndices \u001b[38;5;241m=\u001b[39m np\u001b[38;5;241m.\u001b[39marray(selectedIndices)\n\u001b[1;32m---> 10\u001b[0m d \u001b[38;5;241m=\u001b[39m \u001b[43migl\u001b[49m\u001b[38;5;241;43m.\u001b[39;49m\u001b[43mharmonic_weights\u001b[49m\u001b[43m(\u001b[49m\u001b[43mv\u001b[49m\u001b[43m,\u001b[49m\u001b[43m \u001b[49m\u001b[43mf\u001b[49m\u001b[43m,\u001b[49m\u001b[43m \u001b[49m\u001b[43mselectedIndices\u001b[49m\u001b[43m,\u001b[49m\u001b[43m \u001b[49m\u001b[43mmovePos\u001b[49m\u001b[43m,\u001b[49m\u001b[43m \u001b[49m\u001b[38;5;241;43m2\u001b[39;49m\u001b[43m)\u001b[49m\n\u001b[0;32m     11\u001b[0m u \u001b[38;5;241m=\u001b[39m v \u001b[38;5;241m+\u001b[39m d\n\u001b[0;32m     12\u001b[0m \u001b[38;5;66;03m#print(d)\u001b[39;00m\n\u001b[0;32m     13\u001b[0m \u001b[38;5;66;03m#plot(u, f)\u001b[39;00m\n",
      "\u001b[1;31mValueError\u001b[0m: Invalid type (double, Row Major) for argument 'b'. Expected it to match argument 'f' which is of type (int, Row Major)."
     ]
    }
   ],
   "source": [
    "movePos = []\n",
    "for i in range(len(selectedIndices)):\n",
    "    movePos.append([0., 0., 0.])\n",
    "    #print(v[selectedIndices[i]][2])\n",
    "#movePos[0][2] = 0.5\n",
    "movePos = np.array(movePos)\n",
    "#print(movePos)\n",
    "selectedIndices = np.array(selectedIndices)\n",
    "\n",
    "d = igl.harmonic_weights(v, f, selectedIndices, movePos, 2)\n",
    "u = v + d\n",
    "#print(d)\n",
    "#plot(u, f)\n",
    "\n",
    "u_p3s, f_p3s = transformFaceMat(u, f)\n",
    "surfD_g = Geometry(vertices=u_p3s[:], faces=f_p3s[:])\n",
    "surfD = Mesh(geometry=surfD_g,\n",
    "                 material=MeshLambertMaterial())\n",
    "#surfD"
   ]
  },
  {
   "cell_type": "code",
   "execution_count": 47,
   "id": "c9577167",
   "metadata": {
    "scrolled": true
   },
   "outputs": [
    {
     "data": {
      "application/vnd.jupyter.widget-view+json": {
       "model_id": "6e70728c15324ccfbcaf7e7a85b8a8ff",
       "version_major": 2,
       "version_minor": 0
      },
      "text/plain": [
       "Preview(child=Mesh(geometry=Geometry(colors=['#ffffff'], faceVertexUvs=[[]], faces=((2, 1, 0, ([-0.05071785670…"
      ]
     },
     "metadata": {},
     "output_type": "display_data"
    }
   ],
   "source": [
    "surf"
   ]
  },
  {
   "cell_type": "code",
   "execution_count": 48,
   "id": "5d76ea2d",
   "metadata": {},
   "outputs": [
    {
     "data": {
      "application/vnd.jupyter.widget-view+json": {
       "model_id": "ef3a24cc47004ccd908235e23c21f261",
       "version_major": 2,
       "version_minor": 0
      },
      "text/plain": [
       "FloatSlider(value=0.0, description='X:', max=1.0, min=-1.0, step=0.01)"
      ]
     },
     "metadata": {},
     "output_type": "display_data"
    },
    {
     "data": {
      "application/vnd.jupyter.widget-view+json": {
       "model_id": "d0e4d4282947478cb88b94a6217177c6",
       "version_major": 2,
       "version_minor": 0
      },
      "text/plain": [
       "FloatSlider(value=0.0, description='Y:', max=1.0, min=-1.0, step=0.01)"
      ]
     },
     "metadata": {},
     "output_type": "display_data"
    },
    {
     "data": {
      "application/vnd.jupyter.widget-view+json": {
       "model_id": "895bf3d7ceac47b58616d668e73bde7b",
       "version_major": 2,
       "version_minor": 0
      },
      "text/plain": [
       "FloatSlider(value=0.0, description='Z:', max=1.0, min=-1.0, step=0.01)"
      ]
     },
     "metadata": {},
     "output_type": "display_data"
    },
    {
     "data": {
      "application/vnd.jupyter.widget-view+json": {
       "model_id": "803bbb4df8724755abdc3ca489df3784",
       "version_major": 2,
       "version_minor": 0
      },
      "text/plain": [
       "Button(description='Click', style=ButtonStyle())"
      ]
     },
     "metadata": {},
     "output_type": "display_data"
    },
    {
     "data": {
      "application/vnd.jupyter.widget-view+json": {
       "model_id": "e66a8d3aa78446e6a77f64f75279d963",
       "version_major": 2,
       "version_minor": 0
      },
      "text/plain": [
       "Output()"
      ]
     },
     "metadata": {},
     "output_type": "display_data"
    }
   ],
   "source": [
    "def show_widgets():\n",
    "    \"\"\"ウィジェットを設定する関数\"\"\"\n",
    "    button = widgets.Button(description='Click')\n",
    "    sliderX = widgets.FloatSlider(value=0, min=-1, max=1, step=0.01, description='X:')\n",
    "    sliderY = widgets.FloatSlider(value=0, min=-1, max=1, step=0.01, description='Y:')\n",
    "    sliderZ = widgets.FloatSlider(value=0, min=-1, max=1, step=0.01, description='Z:')\n",
    "    output = widgets.Output(layour={'border': '1px solid black'})\n",
    "\n",
    "    @output.capture(clear_output=True)\n",
    "    def on_click_callback(clicked_button: widgets.Button) -> None:\n",
    "        #print(f'Selected value: {slider.value}')\n",
    "        movePos[0][0] = sliderX.value\n",
    "        movePos[0][1] = sliderY.value\n",
    "        movePos[0][2] = sliderZ.value\n",
    "        d = igl.harmonic_weights(v, f, selectedIndices, movePos, 2)\n",
    "        u = v + d\n",
    "        plot(u, f)\n",
    "\n",
    "    button.on_click(on_click_callback)\n",
    "    display(sliderX, sliderY, sliderZ, button, output)\n",
    "\n",
    "# ウィジェットを表示する\n",
    "show_widgets()"
   ]
  },
  {
   "cell_type": "code",
   "execution_count": null,
   "id": "dfa6e5e7",
   "metadata": {},
   "outputs": [],
   "source": []
  }
 ],
 "metadata": {
  "kernelspec": {
   "display_name": "Python 3 (ipykernel)",
   "language": "python",
   "name": "python3"
  },
  "language_info": {
   "codemirror_mode": {
    "name": "ipython",
    "version": 3
   },
   "file_extension": ".py",
   "mimetype": "text/x-python",
   "name": "python",
   "nbconvert_exporter": "python",
   "pygments_lexer": "ipython3",
   "version": "3.9.12"
  }
 },
 "nbformat": 4,
 "nbformat_minor": 5
}
